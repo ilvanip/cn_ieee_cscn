{
 "cells": [
  {
   "cell_type": "code",
   "execution_count": 82,
   "metadata": {},
   "outputs": [],
   "source": [
    "import numpy as np\n",
    "import matplotlib.pyplot as plt\n",
    "import random\n",
    "import math\n",
    "np.random.seed(141)"
   ]
  },
  {
   "cell_type": "code",
   "execution_count": 83,
   "metadata": {},
   "outputs": [],
   "source": [
    "class Sensor:\n",
    "    def __init__(self,name,cells,coor,radius=50,lifetime=100):\n",
    "        self.name=name\n",
    "        self.cells=cells\n",
    "        self.coor=coor\n",
    "        self.radius=radius\n",
    "        self.lifetime=lifetime"
   ]
  },
  {
   "cell_type": "code",
   "execution_count": 84,
   "metadata": {},
   "outputs": [],
   "source": [
    "width=height=100\n",
    "sensor_density=0.04\n",
    "sensing_radius=10\n",
    "K=[1,2,3]"
   ]
  },
  {
   "cell_type": "code",
   "execution_count": 85,
   "metadata": {},
   "outputs": [],
   "source": [
    "def getSensorCoordinates():\n",
    "    sensors=[]\n",
    "    sensor_side = (1/(sensor_density))**(1/2) \n",
    "    int_side=int(sensor_side)\n",
    "    for i in range(width//int_side):\n",
    "        for j in range(height//int_side):\n",
    "            # we do the following to reduce the probability of sensors to be at the corners of the cell\n",
    "            if(random.random()>0.2):\n",
    "                temp=[random.randint(1,int_side-1) for _ in range(2)]\n",
    "            else:\n",
    "                temp=[random.randint(0,int_side) for _ in range(2)]\n",
    "            sensor = [int((temp[0]+(sensor_side*i))%width),int((temp[1]+(sensor_side*j))%height)]\n",
    "            sensors.append(Sensor('S'+str(i)+str(j),[],sensor))\n",
    "    return sensors"
   ]
  },
  {
   "cell_type": "code",
   "execution_count": 86,
   "metadata": {},
   "outputs": [
    {
     "data": {
      "image/png": "[encoded data removed]",
      "text/plain": [
       "<Figure size 432x288 with 1 Axes>"
      ]
     },
     "metadata": {
      "needs_background": "light"
     },
     "output_type": "display_data"
    }
   ],
   "source": [
    "sensors=getSensorCoordinates()\n",
    "plt.scatter(*zip(*[sensor.coor for sensor in sensors]),s=2)\n",
    "plt.show()\n",
    "\n",
    "def create_grids(K,R,sensors):\n",
    "    cell_x = cell_y =  2*K*R\n",
    "    grid_sensors=[[[] for j in range(height//cell_y)] for i in range(width//cell_x) ]\n",
    "    for i in range(width//cell_x): \n",
    "        for j in range(height//cell_y): \n",
    "            start_x = i * cell_x\n",
    "            start_y = j * cell_y\n",
    "            end_x = start_x + cell_x\n",
    "            end_y = start_y + cell_y\n",
    "            poi = []\n",
    "            for sensor in sensors:\n",
    "                (x,y)=sensor.coor\n",
    "                if x >= start_x and y >= start_y and x <= end_x and y <= end_y:\n",
    "                    poi.append(sensor)\n",
    "            grid_sensors[i][j]=poi\n",
    "    return grid_sensors\n",
    "grid_sensors=create_grids(K=K[0],R=sensing_radius,sensors=sensors)"
   ]
  },
  {
   "cell_type": "code",
   "execution_count": 87,
   "metadata": {},
   "outputs": [
    {
     "name": "stdout",
     "output_type": "stream",
     "text": [
      "Num of Grid Cells 25\n",
      "Dimens of Grid Cell 20\n"
     ]
    }
   ],
   "source": [
    "# Number of Grid Cells\n",
    "num_of_grid_cells = len(grid_sensors)**2\n",
    "dimen_of_gridcell = width//len(grid_sensors)\n",
    "print(\"Num of Grid Cells\",num_of_grid_cells)\n",
    "print(\"Dimens of Grid Cell\",dimen_of_gridcell)"
   ]
  },
  {
   "cell_type": "code",
   "execution_count": 88,
   "metadata": {},
   "outputs": [
    {
     "data": {
      "text/plain": [
       "<matplotlib.collections.PathCollection at 0x1e1dae1c548>"
      ]
     },
     "execution_count": 88,
     "metadata": {},
     "output_type": "execute_result"
    },
    {
     "data": {
      "image/png": "[encoded data removed]",
      "text/plain": [
       "<Figure size 432x288 with 1 Axes>"
      ]
     },
     "metadata": {
      "needs_background": "light"
     },
     "output_type": "display_data"
    }
   ],
   "source": [
    "plt.scatter(*zip(*[sensor.coor for sensor in grid_sensors[0][0]]),s=2)"
   ]
  },
  {
   "cell_type": "code",
   "execution_count": 89,
   "metadata": {},
   "outputs": [
    {
     "data": {
      "text/plain": [
       "16"
      ]
     },
     "execution_count": 89,
     "metadata": {},
     "output_type": "execute_result"
    }
   ],
   "source": [
    "hello = [x for x in grid_sensors[0][0]]\n",
    "len(grid_sensors[0][0])"
   ]
  },
  {
   "cell_type": "code",
   "execution_count": 90,
   "metadata": {},
   "outputs": [],
   "source": [
    "# for sens in grid_sensors[0][0]:\n",
    "#     print(sens.name, sens.coor)"
   ]
  },
  {
   "cell_type": "code",
   "execution_count": 91,
   "metadata": {},
   "outputs": [],
   "source": [
    "mult_factor = 10"
   ]
  },
  {
   "cell_type": "code",
   "execution_count": 92,
   "metadata": {},
   "outputs": [],
   "source": [
    "def ret_points(centre, grid_cell, R):\n",
    "    x,y = centre\n",
    "    points = []\n",
    "    temp = 1\n",
    "    \n",
    "    max_index = len(grid_cell) - 1\n",
    "    \n",
    "    deg = 180\n",
    "    for i in range(y,y-R-1,-1*temp): \n",
    "        if i<0 or i>max_index:\n",
    "            continue\n",
    "\n",
    "        x_min = round(x + R * math.cos(deg*math.pi/180))\n",
    "        for j in range(x,x_min,-1*temp): \n",
    "            if j<0 or j>max_index:\n",
    "                continue\n",
    "\n",
    "            if grid_cell[j][i] == 1:\n",
    "                points.append([j,i])\n",
    "            else:\n",
    "                break\n",
    "        deg-=90.0/R\n",
    "\n",
    "    deg = 0\n",
    "    for i in range(y,y-R-1,-1*temp):\n",
    "        if i<0 or i>max_index:\n",
    "            continue\n",
    "\n",
    "        x_min = round(x + R * math.cos(deg*math.pi/180))\n",
    "        for j in range(x,x_min,1*temp):\n",
    "            if j<0 or j>max_index:\n",
    "                continue\n",
    "\n",
    "            if grid_cell[j][i] == 1:\n",
    "                points.append([j,i])\n",
    "            else:\n",
    "                break\n",
    "        deg+=90.0/R\n",
    "    \n",
    "\n",
    "    deg = 180\n",
    "    for i in range(y,y+R+1,1*temp):\n",
    "        if i<0 or i>max_index:\n",
    "            continue\n",
    "\n",
    "        x_min = round(x + R * math.cos(deg*math.pi/180))\n",
    "        for j in range(x,x_min,-1*temp):\n",
    "            if j<0 or j>max_index:\n",
    "                continue\n",
    "\n",
    "            if grid_cell[j][i] == 1:\n",
    "                points.append([j,i])\n",
    "            else:\n",
    "                break\n",
    "        deg+=90.0/R\n",
    "\n",
    "    deg = 360\n",
    "    for i in range(y,y+R+1,1*temp):\n",
    "        if i<0 or i>max_index:\n",
    "            continue\n",
    "\n",
    "        x_min = round(x + R * math.cos(deg*math.pi/180))\n",
    "        for j in range(x,x_min,1*temp):\n",
    "            if j<0 or j>max_index:\n",
    "                continue\n",
    "\n",
    "            if grid_cell[j][i] == 1:\n",
    "                points.append([j,i])\n",
    "            else:\n",
    "                break\n",
    "        deg+=90.0/R\n",
    "    return points   "
   ]
  },
  {
   "cell_type": "code",
   "execution_count": null,
   "metadata": {},
   "outputs": [
    {
     "name": "stdout",
     "output_type": "stream",
     "text": [
      "Doing 0 0 ......\n",
      "Doing 0 1 ......\n",
      "Doing 0 2 ......\n",
      "Doing 0 3 ......\n",
      "Doing 0 4 ......\n",
      "Doing 1 0 ......\n"
     ]
    }
   ],
   "source": [
    "R = sensing_radius*mult_factor\n",
    "cover_perc = 0.03\n",
    "\n",
    "max_val = 0\n",
    "max_sensor = None\n",
    "\n",
    "coverset_dict = {}\n",
    "le = len(grid_sensors)\n",
    "for i in range(le):\n",
    "    for j in range(le):\n",
    "        print('Doing',i,j,'......')\n",
    "        grid_cell = np.ones((dimen_of_gridcell*mult_factor,dimen_of_gridcell*mult_factor)) # 200 x 200\n",
    "        all_cover_sets = []\n",
    "        cover_sets = []\n",
    "        while len(grid_sensors[i][j])>0:\n",
    "            max_val = 0\n",
    "            for sens in grid_sensors[i][j]: \n",
    "                x = (sens.coor[0]-i*dimen_of_gridcell)*mult_factor\n",
    "                y = (sens.coor[1]-j*dimen_of_gridcell)*mult_factor\n",
    "                x = x if x<len(grid_cell) else len(grid_cell)-1\n",
    "                y = y if y<len(grid_cell) else len(grid_cell)-1\n",
    "\n",
    "                sens.cells = ret_points((x,y),grid_cell, R)\n",
    "\n",
    "                if len(sens.cells) > max_val:\n",
    "                    max_val = len(sens.cells)\n",
    "                    max_sensor = sens\n",
    "\n",
    "            for x,y in max_sensor.cells:\n",
    "                grid_cell[x][y] = 0\n",
    "            if max_val <= 0 or np.count_nonzero(grid_cell == 1) < int(cover_perc*(len(grid_cell)**2)):\n",
    "                if np.count_nonzero(grid_cell == 1) < int(cover_perc*(len(grid_cell)**2)):\n",
    "                    all_cover_sets.append(cover_sets)\n",
    "                cover_sets = []\n",
    "                grid_cell = np.ones((dimen_of_gridcell*mult_factor,dimen_of_gridcell*mult_factor))\n",
    "                continue\n",
    "            cover_sets.append(max_sensor)\n",
    "            grid_sensors[i][j].remove(max_sensor)\n",
    "        coverset_dict[(i,j)] = all_cover_sets\n",
    "        "
   ]
  },
  {
   "cell_type": "code",
   "execution_count": null,
   "metadata": {},
   "outputs": [],
   "source": [
    "for key,value in coverset_dict.items():\n",
    "    print(key)\n",
    "    for x in value:\n",
    "        for sens in x:\n",
    "            print(sens.name,end=\" \")\n",
    "        print()\n",
    "    print()"
   ]
  },
  {
   "cell_type": "code",
   "execution_count": null,
   "metadata": {},
   "outputs": [],
   "source": []
  }
 ],
 "metadata": {
  "kernelspec": {
   "display_name": "Python 3",
   "language": "python",
   "name": "python3"
  },
  "language_info": {
   "codemirror_mode": {
    "name": "ipython",
    "version": 3
   },
   "file_extension": ".py",
   "mimetype": "text/x-python",
   "name": "python",
   "nbconvert_exporter": "python",
   "pygments_lexer": "ipython3",
   "version": "3.7.7"
  }
 },
 "nbformat": 4,
 "nbformat_minor": 4
}
